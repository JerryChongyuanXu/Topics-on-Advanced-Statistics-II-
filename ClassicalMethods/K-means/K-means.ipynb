{
 "cells": [
  {
   "cell_type": "code",
   "execution_count": 1,
   "metadata": {},
   "outputs": [],
   "source": [
    "import pandas as pd\n",
    "import numpy as np\n",
    "import matplotlib.pyplot as plt\n",
    "import matplotlib.cm as cm\n",
    "import scipy.spatial.distance as sp\n",
    "from matplotlib.mlab import PCA"
   ]
  },
  {
   "cell_type": "code",
   "execution_count": 55,
   "metadata": {},
   "outputs": [],
   "source": [
    "def print_2Dmnist_Clusters(X,K,C,title,location):\n",
    "        markers = iter(['<','s','o','^','*','v','1','2','3','4'])\n",
    "        colors = np.array(['b','g','r','c','m','y','k','gray','orange','darkgreen'])\n",
    "        n = np.arange(K)\n",
    "        for i in n:\n",
    "            ex = C.Clusters[i].members\n",
    "            plt.scatter(x=X[ex,0], y = X[ex,1],color = colors[i],marker = next(markers))\n",
    "        plt.title(title)\n",
    "        plt.xticks([], [])\n",
    "        plt.yticks([], [])\n",
    "        art = []\n",
    "        plt.savefig(location ,dpi=900,additional_artists=art,bbox_inches=\"tight\")\n",
    "        plt.show()"
   ]
  },
  {
   "cell_type": "code",
   "execution_count": 56,
   "metadata": {},
   "outputs": [],
   "source": [
    "class cluster(object):\n",
    "    def __init__(self,centroid=None):\n",
    "        self.centroid = centroid\n",
    "        self.members = None\n",
    "        \n",
    "    def set_data(self,members,data):\n",
    "        self.members = members\n",
    "        self.centroid = self.center_mass(data)\n",
    "        \n",
    "    def center_mass(self,data):\n",
    "        if(data[self.members,:].shape[0] == 0):\n",
    "            return self.centroid\n",
    "        else:\n",
    "            r = np.mean(data[self.members,:],axis = 0)\n",
    "        return r\n",
    "    def local_loss(self,X):\n",
    "        local_data = np.copy(X[self.members,:])\n",
    "        count = 0\n",
    "        tmp_loss = np.zeros_like(self.centroid)\n",
    "        for i in np.arange(self.members.shape[0]):\n",
    "            tmp_loss = tmp_loss + np.square(local_data[i,:]-self.centroid)\n",
    "        return np.sum(tmp_loss) \n",
    "\n",
    "class K_means(object):\n",
    "    def __init__(self,X,K,max_iter = 50,seed = 123):\n",
    "        self.Clusters = np.empty([K],dtype = object)\n",
    "        self.X = X\n",
    "        self.K = K\n",
    "        self.max_iter = max_iter\n",
    "        self.seed = seed\n",
    "        self.loss = []\n",
    "    def train(self):\n",
    "        np.random.seed(self.seed)\n",
    "        n = self.X.shape[0]\n",
    "        #Initialize clusters to random points in the data\n",
    "        Ck = np.random.choice(np.arange(n),size=self.K,replace = False)\n",
    "        err = 0\n",
    "        loss_prev = 0\n",
    "        loss_cur = 0\n",
    "        #Initialize the cluster objects\n",
    "        for i, c in zip(np.arange(self.K),Ck):\n",
    "            self.Clusters[i] = cluster(self.X[c,:])\n",
    "        \n",
    "        for j in np.arange(self.max_iter):   \n",
    "            self.clusterize()\n",
    "            loss_cur = self.get_loss()\n",
    "            err = np.abs(loss_cur-loss_prev)\n",
    "            loss_prev = loss_cur\n",
    "            self.loss.append(loss_cur)\n",
    "            if j % 10 == 0:\n",
    "                print(\"Iteration\",j,end=\"\\t\")  \n",
    "                print(\"Loss\",loss_cur)           \n",
    "            if err == 0:\n",
    "                break                \n",
    "    def clusterize(self):\n",
    "        n = self.X.shape[0]\n",
    "        cluster_min = float('inf')\n",
    "        cluster_index = -1\n",
    "        index = np.zeros(n,dtype = int)\n",
    "        for i in np.arange(n):\n",
    "            dist = 0\n",
    "            for c in np.arange(self.K):\n",
    "                dist = np.linalg.norm(self.X[i,:]-self.Clusters[c].centroid)\n",
    "                if dist <= cluster_min:\n",
    "                    cluster_min  = dist\n",
    "                    cluster_index = c\n",
    "            #Store the cluster label for each point\n",
    "            index[i] = int(cluster_index)\n",
    "            cluster_min = float('inf')\n",
    "            cluster_index = -1\n",
    "        #Modify cluster structures with new center and members\n",
    "        count = 0\n",
    "        for c in np.arange(self.K):\n",
    "            self.Clusters[c].set_data(np.where(index==c)[0],self.X)\n",
    "    \n",
    "    def get_loss(self):\n",
    "        n = self.Clusters.shape[0]\n",
    "        count = 0\n",
    "        tmp_loss = 0\n",
    "        for i in np.arange(n):\n",
    "            count = count+1\n",
    "            tmp_loss = tmp_loss + self.Clusters[i].local_loss(self.X)\n",
    "        return tmp_loss"
   ]
  },
  {
   "cell_type": "code",
   "execution_count": 57,
   "metadata": {},
   "outputs": [],
   "source": [
    "mnist_loc = \"../Data\""
   ]
  },
  {
   "cell_type": "code",
   "execution_count": 58,
   "metadata": {},
   "outputs": [],
   "source": [
    "X = np.loadtxt(mnist_loc + \"/MNIST_2D_Train.csv\")"
   ]
  },
  {
   "cell_type": "code",
   "execution_count": 59,
   "metadata": {},
   "outputs": [
    {
     "name": "stdout",
     "output_type": "stream",
     "text": [
      "Iteration 0\tLoss 12584590.9299\n",
      "Iteration 10\tLoss 8192084.61513\n",
      "Iteration 20\tLoss 8081921.54632\n",
      "Iteration 30\tLoss 7947584.26282\n"
     ]
    }
   ],
   "source": [
    "K=10\n",
    "s=123\n",
    "M = 40\n",
    "C=K_means(X,K,max_iter = M,seed =s)\n",
    "C.train()"
   ]
  },
  {
   "cell_type": "code",
   "execution_count": 60,
   "metadata": {},
   "outputs": [
    {
     "data": {
      "image/png": "[encoded data removed]",
      "text/plain": [
       "<matplotlib.figure.Figure at 0x2c880a729e8>"
      ]
     },
     "metadata": {},
     "output_type": "display_data"
    }
   ],
   "source": [
    "location = \"../Slides/Images/2D_MNIST_Cluster\"\n",
    "title = \"K-means clustering of t-SNE projected MNIST\"\n",
    "print_2Dmnist_Clusters(X,K,C,title,location)"
   ]
  },
  {
   "cell_type": "code",
   "execution_count": 64,
   "metadata": {},
   "outputs": [
    {
     "data": {
      "image/png": "[encoded data removed]",
      "text/plain": [
       "<matplotlib.figure.Figure at 0x2c880a06048>"
      ]
     },
     "metadata": {},
     "output_type": "display_data"
    }
   ],
   "source": [
    "plt.title(\"Loss vs. Iteration\")\n",
    "plt.ylabel('Loss')\n",
    "plt.xlabel('Iteration')\n",
    "plt.plot(np.arange(M),C.loss)\n",
    "plt.savefig(\"../Slides/Images/ClusterLoss\",dpi=900,bbox_inches=\"tight\")\n",
    "plt.show()\n",
    "plt.close()"
   ]
  },
  {
   "cell_type": "code",
   "execution_count": 45,
   "metadata": {},
   "outputs": [],
   "source": []
  },
  {
   "cell_type": "code",
   "execution_count": null,
   "metadata": {},
   "outputs": [],
   "source": []
  }
 ],
 "metadata": {
  "kernelspec": {
   "display_name": "Python 3",
   "language": "python",
   "name": "python3"
  },
  "language_info": {
   "codemirror_mode": {
    "name": "ipython",
    "version": 3
   },
   "file_extension": ".py",
   "mimetype": "text/x-python",
   "name": "python",
   "nbconvert_exporter": "python",
   "pygments_lexer": "ipython3",
   "version": "3.6.4"
  }
 },
 "nbformat": 4,
 "nbformat_minor": 2
}
